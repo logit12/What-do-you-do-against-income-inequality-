{
 "cells": [
  {
   "cell_type": "code",
   "execution_count": 1,
   "metadata": {
    "collapsed": true
   },
   "outputs": [],
   "source": [
    "import pandas as pd\n",
    "import numpy as np\n",
    "from os import walk\n",
    "from sklearn.preprocessing import MinMaxScaler"
   ]
  },
  {
   "cell_type": "code",
   "execution_count": 2,
   "metadata": {
    "collapsed": true
   },
   "outputs": [],
   "source": [
    "path_eco = './analyse_data/Indicators_eco/'\n",
    "path_work = './analyse_data/Indicators_work/'\n",
    "path_edu = './analyse_data/Indicators_education/'\n",
    "file_world = './analyse_data/details_countries.csv'\n",
    "path = [path_eco, path_edu, path_work]"
   ]
  },
  {
   "cell_type": "code",
   "execution_count": 21,
   "metadata": {
    "collapsed": true
   },
   "outputs": [],
   "source": [
    "df_world = pd.read_csv('./analyse_data/details_countries.csv')"
   ]
  },
  {
   "cell_type": "code",
   "execution_count": 14,
   "metadata": {
    "collapsed": false
   },
   "outputs": [
    {
     "data": {
      "text/html": [
       "<div>\n",
       "<table border=\"1\" class=\"dataframe\">\n",
       "  <thead>\n",
       "    <tr style=\"text-align: right;\">\n",
       "      <th></th>\n",
       "      <th>name</th>\n",
       "      <th>alpha-2</th>\n",
       "      <th>alpha-3</th>\n",
       "      <th>country-code</th>\n",
       "      <th>iso_3166-2</th>\n",
       "      <th>region</th>\n",
       "      <th>sub-region</th>\n",
       "      <th>region-code</th>\n",
       "      <th>sub-region-code</th>\n",
       "    </tr>\n",
       "  </thead>\n",
       "  <tbody>\n",
       "  </tbody>\n",
       "</table>\n",
       "</div>"
      ],
      "text/plain": [
       "Empty DataFrame\n",
       "Columns: [name, alpha-2, alpha-3, country-code, iso_3166-2, region, sub-region, region-code, sub-region-code]\n",
       "Index: []"
      ]
     },
     "execution_count": 14,
     "metadata": {},
     "output_type": "execute_result"
    }
   ],
   "source": [
    "df_world[df_world[\"country-code\"].isnull()]"
   ]
  },
  {
   "cell_type": "code",
   "execution_count": 4,
   "metadata": {
    "collapsed": false
   },
   "outputs": [],
   "source": [
    "file_merged = pd.DataFrame()\n",
    "for _path in path:\n",
    "    for filename in next(walk(_path))[2]:\n",
    "        file_tmp = pd.read_excel(_path + filename, sheetname='Data')\n",
    "        file_tmp['indicator'] = filename.replace('.xlsx', '')\n",
    "        file_tmp['indicator2'] = file_tmp.columns.tolist()[0]\n",
    "        file_tmp['name'] = file_tmp[file_tmp.columns.tolist()[0]]\n",
    "        del file_tmp[file_tmp.columns.tolist()[0]]\n",
    "\n",
    "        file_tmp = pd.melt(file_tmp, id_vars=['name', 'indicator', 'indicator2'],\n",
    "                                    value_vars=list(file_tmp.columns[:-3]),\n",
    "                                    var_name='year', value_name='value')\n",
    "        file_merged = pd.concat([file_merged, file_tmp])"
   ]
  },
  {
   "cell_type": "code",
   "execution_count": 5,
   "metadata": {
    "collapsed": false
   },
   "outputs": [
    {
     "data": {
      "text/html": [
       "<div>\n",
       "<table border=\"1\" class=\"dataframe\">\n",
       "  <thead>\n",
       "    <tr style=\"text-align: right;\">\n",
       "      <th></th>\n",
       "      <th>name</th>\n",
       "      <th>indicator</th>\n",
       "      <th>indicator2</th>\n",
       "      <th>year</th>\n",
       "      <th>value</th>\n",
       "    </tr>\n",
       "  </thead>\n",
       "  <tbody>\n",
       "    <tr>\n",
       "      <th>0</th>\n",
       "      <td>Abkhazia</td>\n",
       "      <td>Aid received</td>\n",
       "      <td>ODA received, total (constant 2010 US$)</td>\n",
       "      <td>1960</td>\n",
       "      <td>NaN</td>\n",
       "    </tr>\n",
       "    <tr>\n",
       "      <th>1</th>\n",
       "      <td>Afghanistan</td>\n",
       "      <td>Aid received</td>\n",
       "      <td>ODA received, total (constant 2010 US$)</td>\n",
       "      <td>1960</td>\n",
       "      <td>1.088000e+08</td>\n",
       "    </tr>\n",
       "    <tr>\n",
       "      <th>2</th>\n",
       "      <td>Akrotiri and Dhekelia</td>\n",
       "      <td>Aid received</td>\n",
       "      <td>ODA received, total (constant 2010 US$)</td>\n",
       "      <td>1960</td>\n",
       "      <td>NaN</td>\n",
       "    </tr>\n",
       "    <tr>\n",
       "      <th>3</th>\n",
       "      <td>Albania</td>\n",
       "      <td>Aid received</td>\n",
       "      <td>ODA received, total (constant 2010 US$)</td>\n",
       "      <td>1960</td>\n",
       "      <td>NaN</td>\n",
       "    </tr>\n",
       "    <tr>\n",
       "      <th>4</th>\n",
       "      <td>Algeria</td>\n",
       "      <td>Aid received</td>\n",
       "      <td>ODA received, total (constant 2010 US$)</td>\n",
       "      <td>1960</td>\n",
       "      <td>3.405040e+09</td>\n",
       "    </tr>\n",
       "  </tbody>\n",
       "</table>\n",
       "</div>"
      ],
      "text/plain": [
       "                    name     indicator  \\\n",
       "0               Abkhazia  Aid received   \n",
       "1            Afghanistan  Aid received   \n",
       "2  Akrotiri and Dhekelia  Aid received   \n",
       "3                Albania  Aid received   \n",
       "4                Algeria  Aid received   \n",
       "\n",
       "                                indicator2  year         value  \n",
       "0  ODA received, total (constant 2010 US$)  1960           NaN  \n",
       "1  ODA received, total (constant 2010 US$)  1960  1.088000e+08  \n",
       "2  ODA received, total (constant 2010 US$)  1960           NaN  \n",
       "3  ODA received, total (constant 2010 US$)  1960           NaN  \n",
       "4  ODA received, total (constant 2010 US$)  1960  3.405040e+09  "
      ]
     },
     "execution_count": 5,
     "metadata": {},
     "output_type": "execute_result"
    }
   ],
   "source": [
    "file_merged.head()"
   ]
  },
  {
   "cell_type": "code",
   "execution_count": 197,
   "metadata": {
    "collapsed": true
   },
   "outputs": [],
   "source": [
    "df_world = pd.read_csv('./analyse_data/details_countries.csv')"
   ]
  },
  {
   "cell_type": "code",
   "execution_count": 198,
   "metadata": {
    "collapsed": true
   },
   "outputs": [],
   "source": [
    "file_merged_new = pd.merge(file_merged, df_world[['name', 'region', 'country-code']], on='name', how='inner')"
   ]
  },
  {
   "cell_type": "code",
   "execution_count": 199,
   "metadata": {
    "collapsed": false
   },
   "outputs": [
    {
     "data": {
      "text/plain": [
       "224550"
      ]
     },
     "execution_count": 199,
     "metadata": {},
     "output_type": "execute_result"
    }
   ],
   "source": [
    "len(file_merged_new)"
   ]
  },
  {
   "cell_type": "code",
   "execution_count": 167,
   "metadata": {
    "collapsed": false
   },
   "outputs": [
    {
     "data": {
      "text/html": [
       "<div>\n",
       "<table border=\"1\" class=\"dataframe\">\n",
       "  <thead>\n",
       "    <tr style=\"text-align: right;\">\n",
       "      <th></th>\n",
       "      <th>name</th>\n",
       "      <th>indicator</th>\n",
       "      <th>indicator2</th>\n",
       "      <th>year</th>\n",
       "      <th>value</th>\n",
       "      <th>region</th>\n",
       "      <th>country-code</th>\n",
       "    </tr>\n",
       "  </thead>\n",
       "  <tbody>\n",
       "    <tr>\n",
       "      <th>0</th>\n",
       "      <td>Abkhazia</td>\n",
       "      <td>Aid received</td>\n",
       "      <td>ODA received, total (constant 2010 US$)</td>\n",
       "      <td>1960</td>\n",
       "      <td>NaN</td>\n",
       "      <td>NaN</td>\n",
       "      <td>NaN</td>\n",
       "    </tr>\n",
       "    <tr>\n",
       "      <th>1</th>\n",
       "      <td>Afghanistan</td>\n",
       "      <td>Aid received</td>\n",
       "      <td>ODA received, total (constant 2010 US$)</td>\n",
       "      <td>1960</td>\n",
       "      <td>1.088000e+08</td>\n",
       "      <td>Asia</td>\n",
       "      <td>4.0</td>\n",
       "    </tr>\n",
       "    <tr>\n",
       "      <th>2</th>\n",
       "      <td>Akrotiri and Dhekelia</td>\n",
       "      <td>Aid received</td>\n",
       "      <td>ODA received, total (constant 2010 US$)</td>\n",
       "      <td>1960</td>\n",
       "      <td>NaN</td>\n",
       "      <td>NaN</td>\n",
       "      <td>NaN</td>\n",
       "    </tr>\n",
       "    <tr>\n",
       "      <th>3</th>\n",
       "      <td>Albania</td>\n",
       "      <td>Aid received</td>\n",
       "      <td>ODA received, total (constant 2010 US$)</td>\n",
       "      <td>1960</td>\n",
       "      <td>NaN</td>\n",
       "      <td>Europe</td>\n",
       "      <td>8.0</td>\n",
       "    </tr>\n",
       "    <tr>\n",
       "      <th>4</th>\n",
       "      <td>Algeria</td>\n",
       "      <td>Aid received</td>\n",
       "      <td>ODA received, total (constant 2010 US$)</td>\n",
       "      <td>1960</td>\n",
       "      <td>3.405040e+09</td>\n",
       "      <td>Africa</td>\n",
       "      <td>12.0</td>\n",
       "    </tr>\n",
       "  </tbody>\n",
       "</table>\n",
       "</div>"
      ],
      "text/plain": [
       "                    name     indicator  \\\n",
       "0               Abkhazia  Aid received   \n",
       "1            Afghanistan  Aid received   \n",
       "2  Akrotiri and Dhekelia  Aid received   \n",
       "3                Albania  Aid received   \n",
       "4                Algeria  Aid received   \n",
       "\n",
       "                                indicator2  year         value  region  \\\n",
       "0  ODA received, total (constant 2010 US$)  1960           NaN     NaN   \n",
       "1  ODA received, total (constant 2010 US$)  1960  1.088000e+08    Asia   \n",
       "2  ODA received, total (constant 2010 US$)  1960           NaN     NaN   \n",
       "3  ODA received, total (constant 2010 US$)  1960           NaN  Europe   \n",
       "4  ODA received, total (constant 2010 US$)  1960  3.405040e+09  Africa   \n",
       "\n",
       "   country-code  \n",
       "0           NaN  \n",
       "1           4.0  \n",
       "2           NaN  \n",
       "3           8.0  \n",
       "4          12.0  "
      ]
     },
     "execution_count": 167,
     "metadata": {},
     "output_type": "execute_result"
    }
   ],
   "source": [
    "file_merged_new.head()"
   ]
  },
  {
   "cell_type": "code",
   "execution_count": 205,
   "metadata": {
    "collapsed": true
   },
   "outputs": [],
   "source": [
    "country_to_delete = [\"Abkhazia\", \"Akrotiri and Dhekelia\", 'Channel Islands', \"Faeroe Islands\", \n",
    "                     \"Netherlands Antilles\", \"Ngorno-Karabakh\", \"Northern Cyprus\", \"St. Helena\", \"St. Kitts and Nevis\",\n",
    "                    \"South Ossetia\", \"Transnistria\", \"West Bank and Gaza\", \"Yugoslavia\", \"Åland\", \"Christian\", \n",
    "                     \"Coastline\", \"Hawaiian Trade Zone\", \"U.S. Pacific Islands\", \"Wake Island\", \"Sark\", \"Chinese Taipei\",\n",
    "                    \"Saint Eustatius\", \"Saba\", \"Nagorno-Karabakh\", \"Saint Helena\",\n",
    "                    \"Serbia and Montenegro\", \"West Germany\", \"East Germany\",\n",
    "                    \"North Yemen (former)\", \"South Yemen (former)\", \"Eritrea and Ethiopia\",\n",
    "                    \"Serbia excluding Kosovo\"]"
   ]
  },
  {
   "cell_type": "code",
   "execution_count": 206,
   "metadata": {
    "collapsed": false,
    "scrolled": false
   },
   "outputs": [],
   "source": [
    "list_countries  = file_merged_new[file_merged_new[\"country-code\"].isnull()][\"name\"].unique()"
   ]
  },
  {
   "cell_type": "code",
   "execution_count": 207,
   "metadata": {
    "collapsed": false
   },
   "outputs": [
    {
     "name": "stdout",
     "output_type": "stream",
     "text": [
      "\n"
     ]
    }
   ],
   "source": [
    "text = \"\"\n",
    "for c in list_countries:\n",
    "    if c not in country_to_delete:\n",
    "        text += c +\"||\"\n",
    "print(text)"
   ]
  },
  {
   "cell_type": "code",
   "execution_count": null,
   "metadata": {
    "collapsed": true
   },
   "outputs": [],
   "source": [
    "\"United Korea (former)\\n\", => faire deux lignes North Korea, South Korea\n",
    "\"Korea, United\" => faire deux lignes North Korea, South Korea\n",
    "United Korea (former) => faire deux lignes\n",
    "\"Serbia and Montenegro\" => faire deux lignes\n",
    "\"West Germany / East Germany => ???\"\n",
    "\"North Yemen (former)\", \"South Yemen (former)\" => voir ce que l'on fait\n",
    "Yemen Arab Republic (Former)||Yemen Democratic (Former) => voir ce que l'on fait\n",
    "\"Eritrea and Ethiopia\" => faire deux lignes,\n",
    "\"Serbia excluding Kosovo\" => voir si y a Kosovo dans le fichier\n"
   ]
  },
  {
   "cell_type": "code",
   "execution_count": 194,
   "metadata": {
    "collapsed": false
   },
   "outputs": [],
   "source": [
    "replace_country = {\n",
    "    \"Saint-Pierre-et-Miquelon\" : \"Saint Pierre and Miquelon\",\n",
    "    \"Cook Is\" : \"Cook Islands\",\n",
    "    \"Central African Republic\" : \"Central African Rep.\",\n",
    "    'Congo, Rep.' : \"Congo Rep.\",\n",
    "    \"Yemen, Rep.\" : \"Yemen Rep.\",\n",
    "    'Congo, Dem. Rep.' : \"Congo Dem. Rep.\",\n",
    "    \"USSR\" : \"Russia\",\n",
    "    \"Kyrgyz\" : \"Kyrgyzstan\",\n",
    "    \"Czechoslovakia\" : \"Czech Republic\",\n",
    "    \"Czech Rep.\": \"Czech Republic\",\n",
    "    \"Dominican Rep.\": \"Dominican Republic\",\n",
    "    \"Korea, Dem. Rep.\" : \"North Korea\",\n",
    "    \"Korea, Rep.\" : \"South Korea\",\n",
    "    \"Falkland Islands (Malvinas)\" : \"Falkland Is (Malvinas)\",\n",
    "    \"Lao\" : \"Laos\",\n",
    "    \"Macao, China\" : \"Macao\",\n",
    "    \"Macedonia, FYR\" : \"Macedonia\",\n",
    "    \"Micronesia, Fed. Sts.\" : \"Micronesia (Federated States of)\",\n",
    "    \"St. Barthélemy\": \"Saint Barthélemy\",\n",
    "    \"St. Lucia\" : \"Saint Lucia\",\n",
    "    \"St. Martin\" : \"Saint Martin\",\n",
    "    \"St. Martin (French part)\" : \"Saint Martin\",\n",
    "    \"Hong Kong, China\" : \"Hong Kong\",\n",
    "    \"Slovak Republic\" : \"Slovakia\",\n",
    "    \"Somaliland\" : \"Somalia\",\n",
    "    \"Virgin Islands, British\" : \"British Virgin Islands\"\n",
    "}\n",
    "\n",
    "def get_right_name(country):\n",
    "    if country in replace_country:\n",
    "        return replace_country[country]\n",
    "    else:\n",
    "        return country"
   ]
  },
  {
   "cell_type": "code",
   "execution_count": 202,
   "metadata": {
    "collapsed": false
   },
   "outputs": [],
   "source": [
    "file_merged_rep_count = file_merged.copy()\n",
    "file_merged_rep_count['name'] = file_merged_rep_count.apply(axis=1, func=lambda x: get_right_name(x['name']))"
   ]
  },
  {
   "cell_type": "code",
   "execution_count": 196,
   "metadata": {
    "collapsed": false
   },
   "outputs": [
    {
     "data": {
      "text/html": [
       "<div>\n",
       "<table border=\"1\" class=\"dataframe\">\n",
       "  <thead>\n",
       "    <tr style=\"text-align: right;\">\n",
       "      <th></th>\n",
       "      <th>name</th>\n",
       "      <th>indicator</th>\n",
       "      <th>indicator2</th>\n",
       "      <th>year</th>\n",
       "      <th>value</th>\n",
       "      <th>new_name</th>\n",
       "    </tr>\n",
       "  </thead>\n",
       "  <tbody>\n",
       "    <tr>\n",
       "      <th>0</th>\n",
       "      <td>Abkhazia</td>\n",
       "      <td>Aid received</td>\n",
       "      <td>ODA received, total (constant 2010 US$)</td>\n",
       "      <td>1960</td>\n",
       "      <td>NaN</td>\n",
       "      <td>Abkhazia</td>\n",
       "    </tr>\n",
       "    <tr>\n",
       "      <th>1</th>\n",
       "      <td>Afghanistan</td>\n",
       "      <td>Aid received</td>\n",
       "      <td>ODA received, total (constant 2010 US$)</td>\n",
       "      <td>1960</td>\n",
       "      <td>1.088000e+08</td>\n",
       "      <td>Afghanistan</td>\n",
       "    </tr>\n",
       "    <tr>\n",
       "      <th>2</th>\n",
       "      <td>Akrotiri and Dhekelia</td>\n",
       "      <td>Aid received</td>\n",
       "      <td>ODA received, total (constant 2010 US$)</td>\n",
       "      <td>1960</td>\n",
       "      <td>NaN</td>\n",
       "      <td>Akrotiri and Dhekelia</td>\n",
       "    </tr>\n",
       "    <tr>\n",
       "      <th>3</th>\n",
       "      <td>Albania</td>\n",
       "      <td>Aid received</td>\n",
       "      <td>ODA received, total (constant 2010 US$)</td>\n",
       "      <td>1960</td>\n",
       "      <td>NaN</td>\n",
       "      <td>Albania</td>\n",
       "    </tr>\n",
       "    <tr>\n",
       "      <th>4</th>\n",
       "      <td>Algeria</td>\n",
       "      <td>Aid received</td>\n",
       "      <td>ODA received, total (constant 2010 US$)</td>\n",
       "      <td>1960</td>\n",
       "      <td>3.405040e+09</td>\n",
       "      <td>Algeria</td>\n",
       "    </tr>\n",
       "  </tbody>\n",
       "</table>\n",
       "</div>"
      ],
      "text/plain": [
       "                    name     indicator  \\\n",
       "0               Abkhazia  Aid received   \n",
       "1            Afghanistan  Aid received   \n",
       "2  Akrotiri and Dhekelia  Aid received   \n",
       "3                Albania  Aid received   \n",
       "4                Algeria  Aid received   \n",
       "\n",
       "                                indicator2  year         value  \\\n",
       "0  ODA received, total (constant 2010 US$)  1960           NaN   \n",
       "1  ODA received, total (constant 2010 US$)  1960  1.088000e+08   \n",
       "2  ODA received, total (constant 2010 US$)  1960           NaN   \n",
       "3  ODA received, total (constant 2010 US$)  1960           NaN   \n",
       "4  ODA received, total (constant 2010 US$)  1960  3.405040e+09   \n",
       "\n",
       "                new_name  \n",
       "0               Abkhazia  \n",
       "1            Afghanistan  \n",
       "2  Akrotiri and Dhekelia  \n",
       "3                Albania  \n",
       "4                Algeria  "
      ]
     },
     "execution_count": 196,
     "metadata": {},
     "output_type": "execute_result"
    }
   ],
   "source": [
    "file_merged_rep_count.head()"
   ]
  },
  {
   "cell_type": "code",
   "execution_count": 203,
   "metadata": {
    "collapsed": true
   },
   "outputs": [],
   "source": [
    "file_merged_new_2 = pd.merge(file_merged_rep_count, df_world[['name', 'region', 'country-code']], on='name', how='inner')"
   ]
  },
  {
   "cell_type": "code",
   "execution_count": 208,
   "metadata": {
    "collapsed": false
   },
   "outputs": [
    {
     "data": {
      "text/plain": [
       "239366"
      ]
     },
     "execution_count": 208,
     "metadata": {},
     "output_type": "execute_result"
    }
   ],
   "source": [
    "len(file_merged_new_2)"
   ]
  },
  {
   "cell_type": "code",
   "execution_count": 209,
   "metadata": {
    "collapsed": false
   },
   "outputs": [
    {
     "data": {
      "text/plain": [
       "array(['Afghanistan', 'Albania', 'Algeria', 'American Samoa', 'Andorra',\n",
       "       'Angola', 'Anguilla', 'Antigua and Barbuda', 'Argentina', 'Armenia',\n",
       "       'Aruba', 'Australia', 'Austria', 'Azerbaijan', 'Bahamas', 'Bahrain',\n",
       "       'Bangladesh', 'Barbados', 'Belarus', 'Belgium', 'Belize', 'Benin',\n",
       "       'Bermuda', 'Bhutan', 'Bolivia', 'Bosnia and Herzegovina',\n",
       "       'Botswana', 'Brazil', 'British Virgin Islands', 'Brunei',\n",
       "       'Bulgaria', 'Burkina Faso', 'Burundi', 'Cambodia', 'Cameroon',\n",
       "       'Canada', 'Cape Verde', 'Cayman Islands', 'Central African Rep.',\n",
       "       'Chad', 'Chile', 'China', 'Christmas Island', 'Colombia', 'Comoros',\n",
       "       'Congo Dem. Rep.', 'Congo Rep.', 'Cook Islands', 'Costa Rica',\n",
       "       \"Cote d'Ivoire\", 'Croatia', 'Cuba', 'Cyprus', 'Czech Republic',\n",
       "       'Denmark', 'Djibouti', 'Dominica', 'Dominican Republic', 'Ecuador',\n",
       "       'Egypt', 'El Salvador', 'Equatorial Guinea', 'Eritrea', 'Estonia',\n",
       "       'Ethiopia', 'Falkland Is (Malvinas)', 'Fiji', 'Finland', 'France',\n",
       "       'French Guiana', 'French Polynesia', 'Gabon', 'Gambia', 'Georgia',\n",
       "       'Germany', 'Ghana', 'Gibraltar', 'Greece', 'Greenland', 'Grenada',\n",
       "       'Guadeloupe', 'Guam', 'Guatemala', 'Guernsey', 'Guinea',\n",
       "       'Guinea-Bissau', 'Guyana', 'Haiti', 'Holy See', 'Honduras',\n",
       "       'Hong Kong', 'Hungary', 'Iceland', 'India', 'Indonesia', 'Iran',\n",
       "       'Iraq', 'Ireland', 'Isle of Man', 'Israel', 'Italy', 'Jamaica',\n",
       "       'Japan', 'Jersey', 'Jordan', 'Kazakhstan', 'Kenya', 'Kiribati',\n",
       "       'South Korea', 'Kuwait', 'Laos', 'Latvia', 'Lebanon', 'Lesotho',\n",
       "       'Liberia', 'Libya', 'Liechtenstein', 'Lithuania', 'Luxembourg',\n",
       "       'Macao', 'Macedonia', 'Madagascar', 'Malawi', 'Malaysia',\n",
       "       'Maldives', 'Mali', 'Malta', 'Marshall Islands', 'Martinique',\n",
       "       'Mauritania', 'Mauritius', 'Mayotte', 'Mexico',\n",
       "       'Micronesia (Federated States of)', 'Moldova', 'Monaco', 'Mongolia',\n",
       "       'Montenegro', 'Montserrat', 'Morocco', 'Mozambique', 'Myanmar',\n",
       "       'Namibia', 'Nauru', 'Nepal', 'Netherlands', 'New Caledonia',\n",
       "       'New Zealand', 'Nicaragua', 'Niger', 'Nigeria', 'Niue',\n",
       "       'Norfolk Island', 'Northern Mariana Islands', 'Norway', 'Oman',\n",
       "       'Pakistan', 'Palau', 'Panama', 'Papua New Guinea', 'Paraguay',\n",
       "       'Peru', 'Philippines', 'Pitcairn', 'Poland', 'Portugal',\n",
       "       'Puerto Rico', 'Qatar', 'Reunion', 'Romania', 'Russia', 'Rwanda',\n",
       "       'Saint Barthélemy', 'Saint Lucia', 'Saint Martin', 'Samoa',\n",
       "       'San Marino', 'Sao Tome and Principe', 'Saudi Arabia', 'Senegal',\n",
       "       'Serbia', 'Seychelles', 'Sierra Leone', 'Singapore', 'Slovakia',\n",
       "       'Slovenia', 'Solomon Islands', 'Somalia', 'South Africa', 'Spain',\n",
       "       'Sri Lanka', 'Sudan', 'Suriname', 'Svalbard', 'Swaziland', 'Sweden',\n",
       "       'Switzerland', 'Syria', 'Taiwan', 'Tajikistan', 'Tanzania',\n",
       "       'Thailand', 'Timor-Leste', 'Togo', 'Tokelau', 'Tonga',\n",
       "       'Trinidad and Tobago', 'Tunisia', 'Turkey', 'Turkmenistan',\n",
       "       'Turks and Caicos Islands', 'Tuvalu', 'Uganda', 'Ukraine',\n",
       "       'United Arab Emirates', 'United Kingdom', 'United States',\n",
       "       'Uruguay', 'Uzbekistan', 'Wallis et Futuna', 'Vanuatu', 'Venezuela',\n",
       "       'Western Sahara', 'Vietnam', 'Virgin Islands (U.S.)', 'Yemen',\n",
       "       'Zambia', 'Zimbabwe', 'South Sudan', 'Curaçao',\n",
       "       'Sint Maarten (Dutch part)', 'Antarctica', 'Bonaire', 'Kyrgyzstan',\n",
       "       'Saint Kitts and Nevis', 'Saint Vincent and the Grenadines',\n",
       "       'Saint Pierre and Miquelon'], dtype=object)"
      ]
     },
     "execution_count": 209,
     "metadata": {},
     "output_type": "execute_result"
    }
   ],
   "source": [
    "file_merged_new_2['name'].unique()"
   ]
  },
  {
   "cell_type": "code",
   "execution_count": 213,
   "metadata": {
    "collapsed": true
   },
   "outputs": [],
   "source": [
    "file_merged_new_2.to_csv('ind_with_all_countries.csv', sep=\";\")"
   ]
  },
  {
   "cell_type": "code",
   "execution_count": 214,
   "metadata": {
    "collapsed": false
   },
   "outputs": [
    {
     "data": {
      "text/plain": [
       "29"
      ]
     },
     "execution_count": 214,
     "metadata": {},
     "output_type": "execute_result"
    }
   ],
   "source": [
    "len(file_merged_new_2[\"indicator\"].unique())"
   ]
  },
  {
   "cell_type": "markdown",
   "metadata": {},
   "source": [
    "## Comparaison avec les pays du fichier GEO"
   ]
  },
  {
   "cell_type": "code",
   "execution_count": 215,
   "metadata": {
    "collapsed": true
   },
   "outputs": [],
   "source": [
    "import json\n",
    "\n",
    "with open('./analyse_data/countries.geo.json') as data_file:    \n",
    "    geo_country = json.load(data_file)\n",
    "\n"
   ]
  },
  {
   "cell_type": "code",
   "execution_count": 228,
   "metadata": {
    "collapsed": false
   },
   "outputs": [],
   "source": [
    "list_geo_country = []\n",
    "for i in range(len(geo_country[\"features\"])):\n",
    "    list_geo_country.append(geo_country[\"features\"][i][\"properties\"][\"name\"])"
   ]
  },
  {
   "cell_type": "code",
   "execution_count": 230,
   "metadata": {
    "collapsed": false,
    "scrolled": false
   },
   "outputs": [],
   "source": [
    "country_gini = ['Afghanistan', 'Albania', 'Algeria', 'Angola', 'Argentina', 'Armenia', 'Australia', 'Austria', 'Azerbaijan', 'Bahamas, The', 'Bahrain', 'Bangladesh', 'Barbados', 'Belarus', 'Belgium', 'Belize', 'Benin', 'Bermuda', 'Bhutan', 'Bolivia', 'Bosnia and Herzegovina', 'Botswana', 'Brazil', 'Brunei', 'Bulgaria', 'Burkina Faso', 'Burundi', 'Cambodia', 'Cameroon', 'Canada', 'Cape Verde', 'Central African Rep.', 'Chad', 'Chile', 'China', 'Colombia', 'Comoros', 'Congo Dem. Rep.', 'Congo Rep.', 'Costa Rica', \"Cote d'Ivoire\", 'Croatia', 'Cyprus', 'Czech Republic', 'Denmark', 'Djibouti', 'Dominican Rep.', 'Ecuador', 'Egypt', 'El Salvador', 'Equatorial Guin', 'Estonia', 'Ethiopia', 'Fiji', 'Finland', 'France', 'French Guiana', 'Gabon', 'Gambia', 'Georgia', 'Germany', 'Ghana', 'Greece', 'Greenland', 'Guadeloupe', 'Guatemala', 'Guinea', 'Guinea-Bissau', 'Guyana', 'Haiti', 'Honduras', 'Hong Kong', 'Hungary', 'Iceland', 'India', 'Indonesia', 'Iran', 'Iraq', 'Ireland', 'Israel', 'Italy', 'Jamaica', 'Japan', 'Jordan', 'Kazakhstan', 'Kenya', 'Kiribati', 'Kosovo', 'Kuwait', 'Kyrgyzstan', 'Laos', 'Latvia', 'Lebanon', 'Lesotho', 'Liberia', 'Libya', 'Lithuania', 'Luxembourg', 'Macedonia', 'Madagascar', 'Malawi', 'Malaysia', 'Maldives', 'Mali', 'Malta', 'Mauritania', 'Mauritius', 'Mexico', 'Moldova', 'Mongolia', 'Montenegro', 'Morocco', 'Mozambique', 'Myanmar', 'Namibia', 'Nepal', 'Netherlands', 'New Caledonia', 'New Zealand', 'Nicaragua', 'Niger', 'Nigeria', 'North Korea', 'Norway', 'Oman', 'Pakistan', 'Palestine', 'Panama', 'Papua New Guinea', 'Paraguay', 'Peru', 'Philippines', 'Poland', 'Portugal', 'Puerto Rico', 'Qatar', 'Reunion', 'Romania', 'Russia', 'Rwanda', 'Saint Lucia', 'SaoTome & Principe', 'Saudi Arabia', 'Senegal', 'Serbia', 'Seychelles', 'Sierra Leone', 'Singapore', 'Slovak Republic', 'Slovenia', 'Solomon Islands', 'Somalia', 'South Africa', 'South Korea', 'Spain', 'Sri Lanka', 'St. Kitts & Nevis', 'St. Lucia', 'Sudan', 'Suriname', 'Swaziland', 'Sweden', 'Switzerland', 'Syrian Arab Rep', 'Taiwan, China', 'Tajikistan', 'Tanzania', 'Thailand', 'Timor-Leste', 'Togo', 'Trinidad and Tobago', 'Tunisia', 'Turkey', 'Turkmenistan', 'Uganda', 'Ukraine', 'United Arab Emir', 'United Kingdom', 'United States', 'Uruguay', 'Uzbekistan', 'Venezuela', 'Vietnam', 'Yemen Rep.', 'Yugoslavia', 'Zambia', 'Zimbabwe']\n",
    "country_ko = []\n",
    "for c in country_gini:\n",
    "    if c not in list_geo_country:\n",
    "        country_ko.append(c)"
   ]
  },
  {
   "cell_type": "code",
   "execution_count": null,
   "metadata": {
    "collapsed": true
   },
   "outputs": [],
   "source": []
  }
 ],
 "metadata": {
  "kernelspec": {
   "display_name": "Python 3",
   "language": "python",
   "name": "python3"
  },
  "language_info": {
   "codemirror_mode": {
    "name": "ipython",
    "version": 3
   },
   "file_extension": ".py",
   "mimetype": "text/x-python",
   "name": "python",
   "nbconvert_exporter": "python",
   "pygments_lexer": "ipython3",
   "version": "3.5.1"
  }
 },
 "nbformat": 4,
 "nbformat_minor": 2
}
